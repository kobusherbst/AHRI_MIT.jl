{
 "cells": [
  {
   "cell_type": "markdown",
   "metadata": {},
   "source": [
    "# AHRI Health and Demographic Surveillance Data\n",
    "MIT student visit 18 January 2024"
   ]
  },
  {
   "cell_type": "markdown",
   "metadata": {},
   "source": [
    "## Get the Data\n",
    "Download the data from the SAPRIN Data Repository: https://saprindata.samrc.ac.za/index.php/catalog/85\n",
    "It is public access, but you need to register to download the data"
   ]
  },
  {
   "cell_type": "markdown",
   "metadata": {},
   "source": [
    "1. ### Set up the Julia packages we will be using:\n",
    "    - CSV - To read the downloaded data\n",
    "    - DataFrames - to process the data once read from the CSV file\n",
    "    - CarioMakie and AlgebraOfGraphics to plot our results "
   ]
  },
  {
   "cell_type": "code",
   "execution_count": null,
   "metadata": {},
   "outputs": [],
   "source": [
    "using CSV\n",
    "using DataFrames\n",
    "using CairoMakie\n",
    "using AlgebraOfGraphics"
   ]
  },
  {
   "cell_type": "markdown",
   "metadata": {},
   "source": [
    "2. ### Read the downloaded CSV file"
   ]
  },
  {
   "cell_type": "code",
   "execution_count": null,
   "metadata": {},
   "outputs": [],
   "source": [
    "df = CSV.read(/Users/kobush/Library/CloudStorage/OneDrive-AHRI/ACDIS/Projects/SAPRIN/Data Extraction/SAPRIN_Data/SAPRIN_YrAge_Episodes.csv, DataFrame)"
   ]
  },
  {
   "cell_type": "code",
   "execution_count": null,
   "metadata": {},
   "outputs": [],
   "source": [
    "# List the column names\n",
    "print(names(df))"
   ]
  },
  {
   "cell_type": "markdown",
   "metadata": {},
   "source": [
    "### Columns\n",
    "NodeId  \n",
    "IndividualId  \n",
    "**Sex**  \n",
    "DoB  \n",
    "DoD  \n",
    "...  \n",
    "**CalendarYear**  \n",
    "**Age**  \n",
    "StartDate  \n",
    "EndDate  \n",
    "Episodes  \n",
    "Episode  \n",
    "LocationId  \n",
    "HouseholdId  \n",
    "**Resident**  \n",
    "Enumeration, Born, InMigration, LocationEntry, ExtResStart, Participation, ...,   \n",
    "Died, OutMigration, LocationExit, ExtResEnd, LostToFollowUp, Refusal, ...,   \n",
    "**Days**  \n",
    "**Current**  "
   ]
  },
  {
   "cell_type": "code",
   "execution_count": null,
   "metadata": {},
   "outputs": [],
   "source": [
    "# List the first 5 rows\n",
    "first(df, 5)"
   ]
  },
  {
   "cell_type": "code",
   "execution_count": null,
   "metadata": {},
   "outputs": [],
   "source": [
    "# List the last 5 rows\n",
    "last(df, 5)"
   ]
  },
  {
   "cell_type": "code",
   "execution_count": null,
   "metadata": {},
   "outputs": [],
   "source": [
    "# Number of records for each NodeId\n",
    "rd = combine(groupby(df, :NodeId), nrow => :freq)"
   ]
  },
  {
   "cell_type": "markdown",
   "metadata": {},
   "source": [
    "### SAPRIN Nodes\n",
    "1 = Agincourt<br>\n",
    "2 = DIMAMO<br>\n",
    "3 = AHRI<br>\n",
    "\n",
    "#### We will continue working only with AHRI data for residents up to 2022"
   ]
  },
  {
   "cell_type": "code",
   "execution_count": null,
   "metadata": {},
   "outputs": [],
   "source": [
    "ahri = subset(df, :NodeId => ByRow(x -> x == 3), :CalendarYear => ByRow(x -> x <= 2022), :Resident=> ByRow(x -> x == 1))"
   ]
  },
  {
   "cell_type": "code",
   "execution_count": null,
   "metadata": {},
   "outputs": [],
   "source": [
    "# Number of births per year\n",
    "births = combine(groupby(ahri, :CalendarYear), :Born => sum => :Births)"
   ]
  },
  {
   "cell_type": "code",
   "execution_count": null,
   "metadata": {},
   "outputs": [],
   "source": [
    "# Number of deaths per year\n",
    "deaths = combine(groupby(ahri, :CalendarYear), :Died => sum => :Deaths)"
   ]
  },
  {
   "cell_type": "code",
   "execution_count": null,
   "metadata": {},
   "outputs": [],
   "source": [
    "# Let's plot the number of births and deaths per year\n",
    "fig = Figure(size = (800, 600))\n",
    "ax = Axis(fig[1, 1], xlabel = \"Year\", ylabel = \"Number of births/deaths\", xticks = 2000:2:2022)\n",
    "lines!(ax, births.CalendarYear, births.Births, color = :blue, linewidth = 2, linestyle = :dash, label = \"Births\")\n",
    "lines!(ax, deaths.CalendarYear, deaths.Deaths, color = :red, linewidth = 2, linestyle = :dash, label = \"Deaths\")\n",
    "Legend(fig[1, 2], ax, label = [\"Births\" \"Deaths\"], loc = :best)\n",
    "fig"
   ]
  },
  {
   "cell_type": "markdown",
   "metadata": {},
   "source": [
    "These graphs look a bit strange - why the sudden increase in births in 2017?"
   ]
  },
  {
   "cell_type": "markdown",
   "metadata": {},
   "source": [
    "Could it be that the denominator have changes over the years?"
   ]
  },
  {
   "cell_type": "code",
   "execution_count": null,
   "metadata": {},
   "outputs": [],
   "source": [
    "# Let's check when new persons were enumerated\n",
    "enums = combine(groupby(ahri, :CalendarYear), :Enumeration => sum => :Freq)"
   ]
  },
  {
   "cell_type": "markdown",
   "metadata": {},
   "source": [
    "So we rather need to look at **rates**.<br>\n",
    "$$Rate = \\frac{numerator}{denominator}$$\n",
    "*numerator* = Number of births/deaths<br>\n",
    "*denominator* = Person years of exposure\n",
    "\n"
   ]
  },
  {
   "cell_type": "code",
   "execution_count": null,
   "metadata": {},
   "outputs": [],
   "source": [
    "# Calculate birth rate per year\n",
    "birthrate = combine(groupby(ahri, :CalendarYear), :Born => sum => :Births, :Days => sum => :Days)\n",
    "transform!(birthrate, :Days => ByRow(x -> x / 365) => :PersonYears)\n",
    "transform!(birthrate, [:Births,:PersonYears] => ByRow((x,y) -> (x / y)*1000) => :BirthRate)"
   ]
  },
  {
   "cell_type": "code",
   "execution_count": null,
   "metadata": {},
   "outputs": [],
   "source": [
    "# Calculate death rate per year\n",
    "deathrate = combine(groupby(ahri, :CalendarYear), :Died => sum => :Deaths, :Days => sum => :Days)\n",
    "transform!(deathrate, :Days => ByRow(x -> x / 365) => :PersonYears)\n",
    "transform!(deathrate, [:Deaths,:PersonYears] => ByRow((x,y) -> (x / y)*1000) => :DeathRate)"
   ]
  },
  {
   "cell_type": "code",
   "execution_count": null,
   "metadata": {},
   "outputs": [],
   "source": [
    "# Let's plot the number of births and deaths per year\n",
    "fig = Figure(size = (800, 600))\n",
    "ax = Axis(fig[1, 1], xlabel = \"Year\", ylabel = \"Number of births/deaths\", xticks = 2000:2:2022)\n",
    "lines!(ax, birthrate.CalendarYear, birthrate.BirthRate, color = :blue, linewidth = 2, linestyle = :dash, label = \"Crude Birth Rate\")\n",
    "lines!(ax, deathrate.CalendarYear, deathrate.DeathRate, color = :red, linewidth = 2, linestyle = :dash, label = \"Crude Death Rate\")\n",
    "Legend(fig[1, 2], ax, label = [\"Crude Birth Rate\" \"Crude Death Rate\"], loc = :best)\n",
    "fig"
   ]
  },
  {
   "cell_type": "markdown",
   "metadata": {},
   "source": [
    "### The Code\n",
    "You can find that here: https://github.com/kobusherbst/AHRI_MIT.jl.git"
   ]
  }
 ],
 "metadata": {
  "kernelspec": {
   "display_name": "Julia 1.10.0",
   "language": "julia",
   "name": "julia-1.10"
  },
  "language_info": {
   "file_extension": ".jl",
   "mimetype": "application/julia",
   "name": "julia",
   "version": "1.10.0"
  }
 },
 "nbformat": 4,
 "nbformat_minor": 2
}
